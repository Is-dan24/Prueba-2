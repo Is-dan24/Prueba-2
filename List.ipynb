{
  "nbformat": 4,
  "nbformat_minor": 0,
  "metadata": {
    "anaconda-cloud": {
      "attach-environment": true,
      "summary": "test"
    },
    "hide_input": false,
    "kernelspec": {
      "display_name": "Python 3",
      "language": "python",
      "name": "python3"
    },
    "language_info": {
      "codemirror_mode": {
        "name": "ipython",
        "version": 3
      },
      "file_extension": ".py",
      "mimetype": "text/x-python",
      "name": "python",
      "nbconvert_exporter": "python",
      "pygments_lexer": "ipython3",
      "version": "3.7.5"
    },
    "colab": {
      "provenance": []
    }
  },
  "cells": [
    {
      "cell_type": "markdown",
      "metadata": {
        "id": "wrqlp71rtWgf"
      },
      "source": [
        "<br>\n",
        "\n",
        "![Imgur](https://i.imgur.com/zRrFdsf.png)\n",
        "\n",
        "_____"
      ]
    },
    {
      "cell_type": "markdown",
      "metadata": {
        "id": "Bb5P9oBJtWgi"
      },
      "source": [
        "\n",
        "# Lists in Python"
      ]
    },
    {
      "cell_type": "markdown",
      "source": [
        "Preparation"
      ],
      "metadata": {
        "id": "3olqhhrKEU7S"
      }
    },
    {
      "cell_type": "markdown",
      "source": [
        "## 1. Creating"
      ],
      "metadata": {
        "id": "ix7xtYzM7GsE"
      }
    },
    {
      "cell_type": "code",
      "metadata": {
        "id": "GHJeUsWetWgm",
        "colab": {
          "base_uri": "https://localhost:8080/"
        },
        "outputId": "6eaa49fd-02ff-46eb-e95a-953733d5cf37"
      },
      "source": [
        "\n",
        "namesP=[\"Qing\", \"Françoise\", \"Raúl\", \"Bjork\",\"Marie\",\"Jim\",\"Tere\",\"Tina\"]\n",
        "agesP=[32,33,28,30,29,33,34,27]\n",
        "countryP=[\"China\", \"Senegal\", \"España\", \"Norway\",\"Korea\",\"USA\",\"Bolivia\",\"Portugal\"]\n",
        "educationP=[\"Bach\", \"Bach\", \"Master\", \"PhD\",\"PhD\", \"Master\",\"Master\",\"PhD\"]\n",
        "\n",
        "type(agesP[0])"
      ],
      "execution_count": null,
      "outputs": [
        {
          "output_type": "execute_result",
          "data": {
            "text/plain": [
              "int"
            ]
          },
          "metadata": {},
          "execution_count": 41
        }
      ]
    },
    {
      "cell_type": "code",
      "source": [
        "type(namesP)"
      ],
      "metadata": {
        "id": "kHOybyYs7bt3",
        "colab": {
          "base_uri": "https://localhost:8080/",
          "height": 141
        },
        "collapsed": true,
        "outputId": "6a3699a7-f343-42a0-f79f-a9ef2f55af9a"
      },
      "execution_count": null,
      "outputs": [
        {
          "output_type": "error",
          "ename": "NameError",
          "evalue": "name 'namesP' is not defined",
          "traceback": [
            "\u001b[0;31m---------------------------------------------------------------------------\u001b[0m",
            "\u001b[0;31mNameError\u001b[0m                                 Traceback (most recent call last)",
            "\u001b[0;32m<ipython-input-1-b8897d4842f4>\u001b[0m in \u001b[0;36m<cell line: 1>\u001b[0;34m()\u001b[0m\n\u001b[0;32m----> 1\u001b[0;31m \u001b[0mtype\u001b[0m\u001b[0;34m(\u001b[0m\u001b[0mnamesP\u001b[0m\u001b[0;34m)\u001b[0m\u001b[0;34m\u001b[0m\u001b[0;34m\u001b[0m\u001b[0m\n\u001b[0m",
            "\u001b[0;31mNameError\u001b[0m: name 'namesP' is not defined"
          ]
        }
      ]
    },
    {
      "cell_type": "code",
      "source": [
        "agesP"
      ],
      "metadata": {
        "id": "bYQ8wWNQ6rSt"
      },
      "execution_count": null,
      "outputs": []
    },
    {
      "cell_type": "markdown",
      "metadata": {
        "id": "_y7hce_8tWgr"
      },
      "source": [
        "## 2. Accessing"
      ]
    },
    {
      "cell_type": "code",
      "metadata": {
        "id": "Hp4CogsCtWgr"
      },
      "source": [
        "# Keep in mind the positions in Python start in **0**.\n",
        "agesP[0]"
      ],
      "execution_count": null,
      "outputs": []
    },
    {
      "cell_type": "code",
      "source": [
        "type(agesP[0])"
      ],
      "metadata": {
        "id": "LcIBAZEr7ml_"
      },
      "execution_count": null,
      "outputs": []
    },
    {
      "cell_type": "code",
      "source": [
        "#last element\n",
        "countryP[-1]"
      ],
      "metadata": {
        "id": "MuQtAvsH-rJw"
      },
      "execution_count": null,
      "outputs": []
    },
    {
      "cell_type": "markdown",
      "source": [
        "### Slices"
      ],
      "metadata": {
        "id": "hAq14dMo8TnG"
      }
    },
    {
      "cell_type": "code",
      "metadata": {
        "id": "pa7c_1M1tWgv"
      },
      "source": [
        "# consecutive\n",
        "agesP[1:4] #second to fourth"
      ],
      "execution_count": null,
      "outputs": []
    },
    {
      "cell_type": "code",
      "source": [
        "# non consecutive with step or pattern\n",
        "agesP[1:8:2] # second to eight step 2"
      ],
      "metadata": {
        "id": "XSO50xLN9MZB"
      },
      "execution_count": null,
      "outputs": []
    },
    {
      "cell_type": "code",
      "metadata": {
        "id": "p8h88eUjtWg1",
        "colab": {
          "base_uri": "https://localhost:8080/"
        },
        "outputId": "947f0b3e-3b24-4419-fa3e-bc5839b37779"
      },
      "source": [
        "# non consecutive without step or pattern\n",
        "keepIndex=[0, 2, 3]\n",
        "[agesP[i] for i in keepIndex]\n"
      ],
      "execution_count": null,
      "outputs": [
        {
          "output_type": "execute_result",
          "data": {
            "text/plain": [
              "[32, 28, 30]"
            ]
          },
          "metadata": {},
          "execution_count": 42
        }
      ]
    },
    {
      "cell_type": "markdown",
      "metadata": {
        "id": "3HdLpDektWg6"
      },
      "source": [
        "## Replacing"
      ]
    },
    {
      "cell_type": "markdown",
      "source": [
        "### by Position"
      ],
      "metadata": {
        "id": "W9tJhxjeBMyX"
      }
    },
    {
      "cell_type": "code",
      "metadata": {
        "id": "Q5mtP1j8tWg7",
        "colab": {
          "base_uri": "https://localhost:8080/"
        },
        "outputId": "9e468502-0189-4932-c561-5c8fa2855b16"
      },
      "source": [
        "countryP[2]=\"Spain\"\n",
        "\n",
        "# list changed:\n",
        "countryP"
      ],
      "execution_count": null,
      "outputs": [
        {
          "output_type": "execute_result",
          "data": {
            "text/plain": [
              "['China', 'Senegal', 'Spain', 'Norway', 'Korea', 'USA', 'Bolivia', 'Portugal']"
            ]
          },
          "metadata": {},
          "execution_count": 19
        }
      ]
    },
    {
      "cell_type": "markdown",
      "source": [
        "### By Value"
      ],
      "metadata": {
        "id": "i3KudD3Don96"
      }
    },
    {
      "cell_type": "code",
      "source": [
        "countryP=[\"Unitaed States\" if value==\"USA\" else value for value in countryP]\n",
        "countryP"
      ],
      "metadata": {
        "id": "Nf9PJWMjqiNI",
        "colab": {
          "base_uri": "https://localhost:8080/"
        },
        "outputId": "2a8f687d-074b-4c5b-a6d6-2219e6c74059"
      },
      "execution_count": null,
      "outputs": [
        {
          "output_type": "execute_result",
          "data": {
            "text/plain": [
              "['China', 'Senegal', 'España', 'Norway', 'Korea', 'Unitaed States', 'Bolivia']"
            ]
          },
          "metadata": {},
          "execution_count": 40
        }
      ]
    },
    {
      "cell_type": "markdown",
      "metadata": {
        "id": "_CF8wYu0tWhH"
      },
      "source": [
        "## Deleting"
      ]
    },
    {
      "cell_type": "markdown",
      "source": [
        "### By Position"
      ],
      "metadata": {
        "id": "bjYzRXv2rB2r"
      }
    },
    {
      "cell_type": "code",
      "metadata": {
        "id": "ghWSnmzftWhH"
      },
      "source": [
        "del countryP[-1] #last value\n",
        "\n",
        "# list changed:\n",
        "countryP"
      ],
      "execution_count": null,
      "outputs": []
    },
    {
      "cell_type": "code",
      "metadata": {
        "id": "EVla5Ov2tWhM",
        "colab": {
          "base_uri": "https://localhost:8080/"
        },
        "outputId": "368258f1-b130-41d1-a827-fd6e353e1bb7"
      },
      "source": [
        "# 'del' works for several positions\n",
        "\n",
        "listP=[1,2,3,4,5,6]\n",
        "del listP[1:4]\n",
        "\n",
        "#now:\n",
        "listP"
      ],
      "execution_count": null,
      "outputs": [
        {
          "output_type": "execute_result",
          "data": {
            "text/plain": [
              "[1, 5, 6]"
            ]
          },
          "metadata": {},
          "execution_count": 24
        }
      ]
    },
    {
      "cell_type": "code",
      "source": [
        "# non consecutive\n",
        "listP=[11,22,33,44,55,66]\n",
        "byeIndex=[1, 3, 5]\n",
        "keepIndex=set(range(len(listP)))-set(byeIndex)\n",
        "listP=[listP[i] for i in keepIndex]\n",
        "listP"
      ],
      "metadata": {
        "id": "4Sc0LyKDuJoz",
        "colab": {
          "base_uri": "https://localhost:8080/"
        },
        "outputId": "554955ad-fccc-40f1-d1ee-172f5f5f32da"
      },
      "execution_count": null,
      "outputs": [
        {
          "output_type": "execute_result",
          "data": {
            "text/plain": [
              "[11, 33, 55]"
            ]
          },
          "metadata": {},
          "execution_count": 28
        }
      ]
    },
    {
      "cell_type": "code",
      "source": [
        "listP=[11,22,33,44,55,66]\n",
        "listP"
      ],
      "metadata": {
        "id": "E8eSqfO2WL6Q",
        "colab": {
          "base_uri": "https://localhost:8080/"
        },
        "outputId": "95654d69-8fd9-433d-b8c2-9e373b41f83d"
      },
      "execution_count": null,
      "outputs": [
        {
          "output_type": "execute_result",
          "data": {
            "text/plain": [
              "[11, 22, 33, 44, 55, 66]"
            ]
          },
          "metadata": {},
          "execution_count": 36
        }
      ]
    },
    {
      "cell_type": "code",
      "source": [
        "byeIndex=[1, 3, 5]"
      ],
      "metadata": {
        "id": "I9kBAVfBWfif"
      },
      "execution_count": null,
      "outputs": []
    },
    {
      "cell_type": "code",
      "source": [
        "set(range(len(listP)))"
      ],
      "metadata": {
        "id": "XoAVEZX2Z8Vp",
        "colab": {
          "base_uri": "https://localhost:8080/"
        },
        "outputId": "2b90f81e-3c0c-4039-c756-168f84d3fd7c"
      },
      "execution_count": null,
      "outputs": [
        {
          "output_type": "execute_result",
          "data": {
            "text/plain": [
              "{0, 1, 2}"
            ]
          },
          "metadata": {},
          "execution_count": 33
        }
      ]
    },
    {
      "cell_type": "code",
      "source": [
        "set(range(len(listP)))-set(byeIndex)"
      ],
      "metadata": {
        "id": "O6o6WhleWinn",
        "colab": {
          "base_uri": "https://localhost:8080/"
        },
        "outputId": "dec35c4f-5208-4c86-d6dc-5bef148eafd1"
      },
      "execution_count": null,
      "outputs": [
        {
          "output_type": "execute_result",
          "data": {
            "text/plain": [
              "{0, 2, 4}"
            ]
          },
          "metadata": {},
          "execution_count": 43
        }
      ]
    },
    {
      "cell_type": "markdown",
      "source": [
        "### by Value"
      ],
      "metadata": {
        "id": "rz-SxbVDyI_5"
      }
    },
    {
      "cell_type": "code",
      "metadata": {
        "id": "kQCwXCw3tWhO",
        "colab": {
          "base_uri": "https://localhost:8080/"
        },
        "outputId": "fdeb940b-7b14-45bf-9b5d-c826357513fb"
      },
      "source": [
        "# by value\n",
        "listP=[1,'a',45,'b','a']\n",
        "listP.remove('a')\n",
        "\n",
        "# list changed:\n",
        "listP # just first ocurrence of value!!"
      ],
      "execution_count": null,
      "outputs": [
        {
          "output_type": "execute_result",
          "data": {
            "text/plain": [
              "[1, 45, 'b', 'a']"
            ]
          },
          "metadata": {},
          "execution_count": 45
        }
      ]
    },
    {
      "cell_type": "code",
      "metadata": {
        "id": "GUi3v8hqtWhU",
        "colab": {
          "base_uri": "https://localhost:8080/"
        },
        "outputId": "a635da77-3852-48a6-c25e-2b1b07b4ca1b"
      },
      "source": [
        "# deleting every  value:\n",
        "\n",
        "listP=[1,'a',45,'b','a']\n",
        "listP=[p for p in listP if not p in ['a']]\n",
        "\n",
        "# you get:\n",
        "listP"
      ],
      "execution_count": null,
      "outputs": [
        {
          "output_type": "execute_result",
          "data": {
            "text/plain": [
              "[1, 45, 'b']"
            ]
          },
          "metadata": {},
          "execution_count": 46
        }
      ]
    },
    {
      "cell_type": "markdown",
      "metadata": {
        "id": "JzcKbpXptWhX"
      },
      "source": [
        "## Inserting values"
      ]
    },
    {
      "cell_type": "code",
      "metadata": {
        "id": "or5OmtestWhY",
        "colab": {
          "base_uri": "https://localhost:8080/"
        },
        "outputId": "438d0800-06b6-4fdd-d692-10c7d267c445"
      },
      "source": [
        "# at the end\n",
        "listP=[1,'a',45,'b','a']\n",
        "listP.append(\"cde\")\n",
        "listP"
      ],
      "execution_count": null,
      "outputs": [
        {
          "output_type": "execute_result",
          "data": {
            "text/plain": [
              "6"
            ]
          },
          "metadata": {},
          "execution_count": 7
        }
      ]
    },
    {
      "cell_type": "code",
      "source": [
        "# specific position\n",
        "listP=[1,'a',45,'b','a']\n",
        "listP.insert(2,\"cde\")\n",
        "listP"
      ],
      "metadata": {
        "id": "GB4IycLs32Ya",
        "colab": {
          "base_uri": "https://localhost:8080/"
        },
        "outputId": "d731be7b-61f4-4f79-e302-2a0d13242319"
      },
      "execution_count": null,
      "outputs": [
        {
          "output_type": "execute_result",
          "data": {
            "text/plain": [
              "[1, 'a', 'cde', 45, 'b', 'a']"
            ]
          },
          "metadata": {},
          "execution_count": 48
        }
      ]
    },
    {
      "cell_type": "markdown",
      "source": [
        "## Concatenating"
      ],
      "metadata": {
        "id": "ceqfkORcK9vt"
      }
    },
    {
      "cell_type": "code",
      "source": [
        "listA_P=[1,2,3]\n",
        "listB_P=['a', 'b', 'c']\n",
        "listA_P + listB_P"
      ],
      "metadata": {
        "id": "4nFczku8K_3k",
        "colab": {
          "base_uri": "https://localhost:8080/"
        },
        "outputId": "7aeb1c6e-b87e-4fa3-d38d-dc888e90fa3a"
      },
      "execution_count": null,
      "outputs": [
        {
          "output_type": "execute_result",
          "data": {
            "text/plain": [
              "tuple"
            ]
          },
          "metadata": {},
          "execution_count": 16
        }
      ]
    },
    {
      "cell_type": "code",
      "source": [
        "listA2_P=[1,2,3]\n",
        "listB2_P=['a', 'b', 'c']\n",
        "listA2_P.extend(listB2_P)\n",
        "listA2_P"
      ],
      "metadata": {
        "id": "gvCtdID3bgm-",
        "colab": {
          "base_uri": "https://localhost:8080/"
        },
        "outputId": "ba84cbb8-7f4a-4443-f429-d1e695fd2a17"
      },
      "execution_count": null,
      "outputs": [
        {
          "output_type": "execute_result",
          "data": {
            "text/plain": [
              "[1, 2, 3, 'a', 'b', 'c']"
            ]
          },
          "metadata": {},
          "execution_count": 50
        }
      ]
    },
    {
      "cell_type": "code",
      "source": [
        "#notice\n",
        "listA1_P=[1,2,3]\n",
        "listB1_P=['a', 'b', 'c']\n",
        "listA1_P.append(listB1_P)\n",
        "listA1_P"
      ],
      "metadata": {
        "id": "buD_S1X6MUje",
        "colab": {
          "base_uri": "https://localhost:8080/"
        },
        "outputId": "05d90df7-82ed-4b7f-a80a-7edef709265f"
      },
      "execution_count": null,
      "outputs": [
        {
          "output_type": "execute_result",
          "data": {
            "text/plain": [
              "[2, 3, ['a', 'b', 'c']]"
            ]
          },
          "metadata": {},
          "execution_count": 19
        }
      ]
    },
    {
      "cell_type": "code",
      "source": [],
      "metadata": {
        "id": "DXNUWj0phmL7"
      },
      "execution_count": null,
      "outputs": []
    }
  ]
}