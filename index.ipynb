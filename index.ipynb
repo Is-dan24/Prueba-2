{
 "cells": [
  {
   "cell_type": "markdown",
   "metadata": {
    "id": "wrqlp71rtWgf"
   },
   "source": [
    "<br>\n",
    "\n",
    "![Imgur](https://i.imgur.com/zRrFdsf.png)\n",
    "\n",
    "_____"
   ]
  },
  {
   "cell_type": "markdown",
   "metadata": {
    "id": "Bb5P9oBJtWgi"
   },
   "source": [
    "\n",
    "# Lists in Python"
   ]
  },
  {
   "cell_type": "markdown",
   "metadata": {
    "id": "3olqhhrKEU7S"
   },
   "source": [
    "Preparation"
   ]
  },
  {
   "cell_type": "markdown",
   "metadata": {
    "id": "ix7xtYzM7GsE"
   },
   "source": [
    "## 1. Creating"
   ]
  },
  {
   "cell_type": "code",
   "execution_count": null,
   "metadata": {
    "colab": {
     "base_uri": "https://localhost:8080/"
    },
    "id": "GHJeUsWetWgm",
    "outputId": "6eaa49fd-02ff-46eb-e95a-953733d5cf37"
   },
   "outputs": [
    {
     "data": {
      "text/plain": [
       "int"
      ]
     },
     "execution_count": 41,
     "metadata": {},
     "output_type": "execute_result"
    }
   ],
   "source": [
    "\n",
    "namesP=[\"Qing\", \"Françoise\", \"Raúl\", \"Bjork\",\"Marie\",\"Jim\",\"Tere\",\"Tina\"]\n",
    "agesP=[32,33,28,30,29,33,34,27]\n",
    "countryP=[\"China\", \"Senegal\", \"España\", \"Norway\",\"Korea\",\"USA\",\"Bolivia\",\"Portugal\"]\n",
    "educationP=[\"Bach\", \"Bach\", \"Master\", \"PhD\",\"PhD\", \"Master\",\"Master\",\"PhD\"]\n",
    "\n",
    "type(agesP[0])"
   ]
  },
  {
   "cell_type": "code",
   "execution_count": null,
   "metadata": {
    "colab": {
     "base_uri": "https://localhost:8080/",
     "height": 141
    },
    "collapsed": true,
    "id": "kHOybyYs7bt3",
    "jupyter": {
     "outputs_hidden": true
    },
    "outputId": "6a3699a7-f343-42a0-f79f-a9ef2f55af9a"
   },
   "outputs": [
    {
     "ename": "NameError",
     "evalue": "name 'namesP' is not defined",
     "output_type": "error",
     "traceback": [
      "\u001b[0;31m---------------------------------------------------------------------------\u001b[0m",
      "\u001b[0;31mNameError\u001b[0m                                 Traceback (most recent call last)",
      "\u001b[0;32m<ipython-input-1-b8897d4842f4>\u001b[0m in \u001b[0;36m<cell line: 1>\u001b[0;34m()\u001b[0m\n\u001b[0;32m----> 1\u001b[0;31m \u001b[0mtype\u001b[0m\u001b[0;34m(\u001b[0m\u001b[0mnamesP\u001b[0m\u001b[0;34m)\u001b[0m\u001b[0;34m\u001b[0m\u001b[0;34m\u001b[0m\u001b[0m\n\u001b[0m",
      "\u001b[0;31mNameError\u001b[0m: name 'namesP' is not defined"
     ]
    }
   ],
   "source": [
    "type(namesP)"
   ]
  },
  {
   "cell_type": "code",
   "execution_count": null,
   "metadata": {
    "id": "bYQ8wWNQ6rSt"
   },
   "outputs": [],
   "source": [
    "agesP"
   ]
  },
  {
   "cell_type": "markdown",
   "metadata": {
    "id": "_y7hce_8tWgr"
   },
   "source": [
    "## 2. Accessing"
   ]
  },
  {
   "cell_type": "code",
   "execution_count": null,
   "metadata": {
    "id": "Hp4CogsCtWgr"
   },
   "outputs": [],
   "source": [
    "# Keep in mind the positions in Python start in **0**.\n",
    "agesP[0]"
   ]
  },
  {
   "cell_type": "code",
   "execution_count": null,
   "metadata": {
    "id": "LcIBAZEr7ml_"
   },
   "outputs": [],
   "source": [
    "type(agesP[0])"
   ]
  },
  {
   "cell_type": "code",
   "execution_count": null,
   "metadata": {
    "id": "MuQtAvsH-rJw"
   },
   "outputs": [],
   "source": [
    "#last element\n",
    "countryP[-1]"
   ]
  },
  {
   "cell_type": "markdown",
   "metadata": {
    "id": "hAq14dMo8TnG"
   },
   "source": [
    "### Slices"
   ]
  },
  {
   "cell_type": "code",
   "execution_count": null,
   "metadata": {
    "id": "pa7c_1M1tWgv"
   },
   "outputs": [],
   "source": [
    "# consecutive\n",
    "agesP[1:4] #second to fourth"
   ]
  },
  {
   "cell_type": "code",
   "execution_count": null,
   "metadata": {
    "id": "XSO50xLN9MZB"
   },
   "outputs": [],
   "source": [
    "# non consecutive with step or pattern\n",
    "agesP[1:8:2] # second to eight step 2"
   ]
  },
  {
   "cell_type": "code",
   "execution_count": null,
   "metadata": {
    "colab": {
     "base_uri": "https://localhost:8080/"
    },
    "id": "p8h88eUjtWg1",
    "outputId": "947f0b3e-3b24-4419-fa3e-bc5839b37779"
   },
   "outputs": [
    {
     "data": {
      "text/plain": [
       "[32, 28, 30]"
      ]
     },
     "execution_count": 42,
     "metadata": {},
     "output_type": "execute_result"
    }
   ],
   "source": [
    "# non consecutive without step or pattern\n",
    "keepIndex=[0, 2, 3]\n",
    "[agesP[i] for i in keepIndex]\n"
   ]
  },
  {
   "cell_type": "markdown",
   "metadata": {
    "id": "3HdLpDektWg6"
   },
   "source": [
    "## Replacing"
   ]
  },
  {
   "cell_type": "markdown",
   "metadata": {
    "id": "W9tJhxjeBMyX"
   },
   "source": [
    "### by Position"
   ]
  },
  {
   "cell_type": "code",
   "execution_count": null,
   "metadata": {
    "colab": {
     "base_uri": "https://localhost:8080/"
    },
    "id": "Q5mtP1j8tWg7",
    "outputId": "9e468502-0189-4932-c561-5c8fa2855b16"
   },
   "outputs": [
    {
     "data": {
      "text/plain": [
       "['China', 'Senegal', 'Spain', 'Norway', 'Korea', 'USA', 'Bolivia', 'Portugal']"
      ]
     },
     "execution_count": 19,
     "metadata": {},
     "output_type": "execute_result"
    }
   ],
   "source": [
    "countryP[2]=\"Spain\"\n",
    "\n",
    "# list changed:\n",
    "countryP"
   ]
  },
  {
   "cell_type": "markdown",
   "metadata": {
    "id": "i3KudD3Don96"
   },
   "source": [
    "### By Value"
   ]
  },
  {
   "cell_type": "code",
   "execution_count": null,
   "metadata": {
    "colab": {
     "base_uri": "https://localhost:8080/"
    },
    "id": "Nf9PJWMjqiNI",
    "outputId": "2a8f687d-074b-4c5b-a6d6-2219e6c74059"
   },
   "outputs": [
    {
     "data": {
      "text/plain": [
       "['China', 'Senegal', 'España', 'Norway', 'Korea', 'Unitaed States', 'Bolivia']"
      ]
     },
     "execution_count": 40,
     "metadata": {},
     "output_type": "execute_result"
    }
   ],
   "source": [
    "countryP=[\"Unitaed States\" if value==\"USA\" else value for value in countryP]\n",
    "countryP"
   ]
  },
  {
   "cell_type": "markdown",
   "metadata": {
    "id": "_CF8wYu0tWhH"
   },
   "source": [
    "## Deleting"
   ]
  },
  {
   "cell_type": "markdown",
   "metadata": {
    "id": "bjYzRXv2rB2r"
   },
   "source": [
    "### By Position"
   ]
  },
  {
   "cell_type": "code",
   "execution_count": null,
   "metadata": {
    "id": "ghWSnmzftWhH"
   },
   "outputs": [],
   "source": [
    "del countryP[-1] #last value\n",
    "\n",
    "# list changed:\n",
    "countryP"
   ]
  },
  {
   "cell_type": "code",
   "execution_count": null,
   "metadata": {
    "colab": {
     "base_uri": "https://localhost:8080/"
    },
    "id": "EVla5Ov2tWhM",
    "outputId": "368258f1-b130-41d1-a827-fd6e353e1bb7"
   },
   "outputs": [
    {
     "data": {
      "text/plain": [
       "[1, 5, 6]"
      ]
     },
     "execution_count": 24,
     "metadata": {},
     "output_type": "execute_result"
    }
   ],
   "source": [
    "# 'del' works for several positions\n",
    "\n",
    "listP=[1,2,3,4,5,6]\n",
    "del listP[1:4]\n",
    "\n",
    "#now:\n",
    "listP"
   ]
  },
  {
   "cell_type": "code",
   "execution_count": null,
   "metadata": {
    "colab": {
     "base_uri": "https://localhost:8080/"
    },
    "id": "4Sc0LyKDuJoz",
    "outputId": "554955ad-fccc-40f1-d1ee-172f5f5f32da"
   },
   "outputs": [
    {
     "data": {
      "text/plain": [
       "[11, 33, 55]"
      ]
     },
     "execution_count": 28,
     "metadata": {},
     "output_type": "execute_result"
    }
   ],
   "source": [
    "# non consecutive\n",
    "listP=[11,22,33,44,55,66]\n",
    "byeIndex=[1, 3, 5]\n",
    "keepIndex=set(range(len(listP)))-set(byeIndex)\n",
    "listP=[listP[i] for i in keepIndex]\n",
    "listP"
   ]
  },
  {
   "cell_type": "code",
   "execution_count": null,
   "metadata": {
    "colab": {
     "base_uri": "https://localhost:8080/"
    },
    "id": "E8eSqfO2WL6Q",
    "outputId": "95654d69-8fd9-433d-b8c2-9e373b41f83d"
   },
   "outputs": [
    {
     "data": {
      "text/plain": [
       "[11, 22, 33, 44, 55, 66]"
      ]
     },
     "execution_count": 36,
     "metadata": {},
     "output_type": "execute_result"
    }
   ],
   "source": [
    "listP=[11,22,33,44,55,66]\n",
    "listP"
   ]
  },
  {
   "cell_type": "code",
   "execution_count": null,
   "metadata": {
    "id": "I9kBAVfBWfif"
   },
   "outputs": [],
   "source": [
    "byeIndex=[1, 3, 5]"
   ]
  },
  {
   "cell_type": "code",
   "execution_count": null,
   "metadata": {
    "colab": {
     "base_uri": "https://localhost:8080/"
    },
    "id": "XoAVEZX2Z8Vp",
    "outputId": "2b90f81e-3c0c-4039-c756-168f84d3fd7c"
   },
   "outputs": [
    {
     "data": {
      "text/plain": [
       "{0, 1, 2}"
      ]
     },
     "execution_count": 33,
     "metadata": {},
     "output_type": "execute_result"
    }
   ],
   "source": [
    "set(range(len(listP)))"
   ]
  },
  {
   "cell_type": "code",
   "execution_count": null,
   "metadata": {
    "colab": {
     "base_uri": "https://localhost:8080/"
    },
    "id": "O6o6WhleWinn",
    "outputId": "dec35c4f-5208-4c86-d6dc-5bef148eafd1"
   },
   "outputs": [
    {
     "data": {
      "text/plain": [
       "{0, 2, 4}"
      ]
     },
     "execution_count": 43,
     "metadata": {},
     "output_type": "execute_result"
    }
   ],
   "source": [
    "set(range(len(listP)))-set(byeIndex)"
   ]
  },
  {
   "cell_type": "markdown",
   "metadata": {
    "id": "rz-SxbVDyI_5"
   },
   "source": [
    "### by Value"
   ]
  },
  {
   "cell_type": "code",
   "execution_count": null,
   "metadata": {
    "colab": {
     "base_uri": "https://localhost:8080/"
    },
    "id": "kQCwXCw3tWhO",
    "outputId": "fdeb940b-7b14-45bf-9b5d-c826357513fb"
   },
   "outputs": [
    {
     "data": {
      "text/plain": [
       "[1, 45, 'b', 'a']"
      ]
     },
     "execution_count": 45,
     "metadata": {},
     "output_type": "execute_result"
    }
   ],
   "source": [
    "# by value\n",
    "listP=[1,'a',45,'b','a']\n",
    "listP.remove('a')\n",
    "\n",
    "# list changed:\n",
    "listP # just first ocurrence of value!!"
   ]
  },
  {
   "cell_type": "code",
   "execution_count": null,
   "metadata": {
    "colab": {
     "base_uri": "https://localhost:8080/"
    },
    "id": "GUi3v8hqtWhU",
    "outputId": "a635da77-3852-48a6-c25e-2b1b07b4ca1b"
   },
   "outputs": [
    {
     "data": {
      "text/plain": [
       "[1, 45, 'b']"
      ]
     },
     "execution_count": 46,
     "metadata": {},
     "output_type": "execute_result"
    }
   ],
   "source": [
    "# deleting every  value:\n",
    "\n",
    "listP=[1,'a',45,'b','a']\n",
    "listP=[p for p in listP if not p in ['a']]\n",
    "\n",
    "# you get:\n",
    "listP"
   ]
  },
  {
   "cell_type": "markdown",
   "metadata": {
    "id": "JzcKbpXptWhX"
   },
   "source": [
    "## Inserting values"
   ]
  },
  {
   "cell_type": "code",
   "execution_count": null,
   "metadata": {
    "colab": {
     "base_uri": "https://localhost:8080/"
    },
    "id": "or5OmtestWhY",
    "outputId": "438d0800-06b6-4fdd-d692-10c7d267c445"
   },
   "outputs": [
    {
     "data": {
      "text/plain": [
       "6"
      ]
     },
     "execution_count": 7,
     "metadata": {},
     "output_type": "execute_result"
    }
   ],
   "source": [
    "# at the end\n",
    "listP=[1,'a',45,'b','a']\n",
    "listP.append(\"cde\")\n",
    "listP"
   ]
  },
  {
   "cell_type": "code",
   "execution_count": null,
   "metadata": {
    "colab": {
     "base_uri": "https://localhost:8080/"
    },
    "id": "GB4IycLs32Ya",
    "outputId": "d731be7b-61f4-4f79-e302-2a0d13242319"
   },
   "outputs": [
    {
     "data": {
      "text/plain": [
       "[1, 'a', 'cde', 45, 'b', 'a']"
      ]
     },
     "execution_count": 48,
     "metadata": {},
     "output_type": "execute_result"
    }
   ],
   "source": [
    "# specific position\n",
    "listP=[1,'a',45,'b','a']\n",
    "listP.insert(2,\"cde\")\n",
    "listP"
   ]
  },
  {
   "cell_type": "markdown",
   "metadata": {
    "id": "ceqfkORcK9vt"
   },
   "source": [
    "## Concatenating"
   ]
  },
  {
   "cell_type": "code",
   "execution_count": null,
   "metadata": {
    "colab": {
     "base_uri": "https://localhost:8080/"
    },
    "id": "4nFczku8K_3k",
    "outputId": "7aeb1c6e-b87e-4fa3-d38d-dc888e90fa3a"
   },
   "outputs": [
    {
     "data": {
      "text/plain": [
       "tuple"
      ]
     },
     "execution_count": 16,
     "metadata": {},
     "output_type": "execute_result"
    }
   ],
   "source": [
    "listA_P=[1,2,3]\n",
    "listB_P=['a', 'b', 'c']\n",
    "listA_P + listB_P"
   ]
  },
  {
   "cell_type": "code",
   "execution_count": null,
   "metadata": {
    "colab": {
     "base_uri": "https://localhost:8080/"
    },
    "id": "gvCtdID3bgm-",
    "outputId": "ba84cbb8-7f4a-4443-f429-d1e695fd2a17"
   },
   "outputs": [
    {
     "data": {
      "text/plain": [
       "[1, 2, 3, 'a', 'b', 'c']"
      ]
     },
     "execution_count": 50,
     "metadata": {},
     "output_type": "execute_result"
    }
   ],
   "source": [
    "listA2_P=[1,2,3]\n",
    "listB2_P=['a', 'b', 'c']\n",
    "listA2_P.extend(listB2_P)\n",
    "listA2_P"
   ]
  },
  {
   "cell_type": "code",
   "execution_count": null,
   "metadata": {
    "colab": {
     "base_uri": "https://localhost:8080/"
    },
    "id": "buD_S1X6MUje",
    "outputId": "05d90df7-82ed-4b7f-a80a-7edef709265f"
   },
   "outputs": [
    {
     "data": {
      "text/plain": [
       "[2, 3, ['a', 'b', 'c']]"
      ]
     },
     "execution_count": 19,
     "metadata": {},
     "output_type": "execute_result"
    }
   ],
   "source": [
    "#notice\n",
    "listA1_P=[1,2,3]\n",
    "listB1_P=['a', 'b', 'c']\n",
    "listA1_P.append(listB1_P)\n",
    "listA1_P"
   ]
  },
  {
   "cell_type": "code",
   "execution_count": null,
   "metadata": {
    "id": "DXNUWj0phmL7"
   },
   "outputs": [],
   "source": []
  }
 ],
 "metadata": {
  "anaconda-cloud": {
   "attach-environment": true,
   "summary": "test"
  },
  "colab": {
   "provenance": []
  },
  "hide_input": false,
  "kernelspec": {
   "display_name": "Python 3 (ipykernel)",
   "language": "python",
   "name": "python3"
  },
  "language_info": {
   "codemirror_mode": {
    "name": "ipython",
    "version": 3
   },
   "file_extension": ".py",
   "mimetype": "text/x-python",
   "name": "python",
   "nbconvert_exporter": "python",
   "pygments_lexer": "ipython3",
   "version": "3.11.9"
  }
 },
 "nbformat": 4,
 "nbformat_minor": 4
}
